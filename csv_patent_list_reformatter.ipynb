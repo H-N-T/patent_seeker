{
 "cells": [
  {
   "cell_type": "markdown",
   "metadata": {},
   "source": [
    "Basic script to remove non-numerical characters from a list of patent numbers in a csv file. Allows for further processing using the patent_seeker script."
   ]
  },
  {
   "cell_type": "code",
   "execution_count": null,
   "metadata": {
    "colab": {
     "base_uri": "https://localhost:8080/",
     "height": 92
    },
    "executionInfo": {
     "elapsed": 15405,
     "status": "ok",
     "timestamp": 1717524735902,
     "user": {
      "displayName": "Henry Taunt",
      "userId": "07657040803472197154"
     },
     "user_tz": -60
    },
    "id": "6TTkE1Z63kcQ",
    "outputId": "c6077c31-09a4-47a5-9497-8712cb9177a4"
   },
   "outputs": [],
   "source": [
    "import pandas as pd\n",
    "import string\n",
    "\n",
    "# Define a function to remove trailing digits after letters\n",
    "def remove_trailing_digits(text):\n",
    "    if pd.api.types.is_string_dtype(text):\n",
    "        for i in range(len(text) - 1, -1, -1):\n",
    "            if text[i].isdigit() and text[i-1].isalpha():\n",
    "                return text[:i]\n",
    "        return text\n",
    "    else:\n",
    "        return ''.join(c for c in str(text) if c in string.digits)\n",
    "\n",
    "# Ask the user to input the file path\n",
    "input_csv = input(\"Enter the path to the input CSV file: \").replace('\"', '')\n",
    "\n",
    "# Define output filename (replace 'output.csv' with your desired name)\n",
    "output_csv = input(\"Enter the name for the output CSV file (e.g., 'output.csv'): \").replace('\"', '')\n",
    "\n",
    "# Read the CSV file into a Pandas DataFrame\n",
    "try:\n",
    "    df = pd.read_csv(input_csv)\n",
    "except FileNotFoundError:\n",
    "    print(f\"Error: File '{input_csv}' not found.\")\n",
    "    exit()\n",
    "\n",
    "# Apply the remove_trailing_digits function to the 'Patent number' column (modify if different)\n",
    "if 'Patent number' in df.columns:\n",
    "    df['Patent number'] = df['Patent number'].apply(remove_trailing_digits)\n",
    "else:\n",
    "    print(\"Error: 'Patent number' column not found in the CSV.\")\n",
    "    exit()\n",
    "\n",
    "# Save the modified DataFrame to a new CSV file\n",
    "df.to_csv(output_csv, index=False)\n",
    "\n",
    "print(f\"CSV data processed and saved to: {output_csv}\")\n"
   ]
  }
 ],
 "metadata": {
  "colab": {
   "authorship_tag": "ABX9TyPY5aEN/dtTiFjdl0NBzSbT",
   "provenance": []
  },
  "kernelspec": {
   "display_name": "Python 3",
   "name": "python3"
  },
  "language_info": {
   "codemirror_mode": {
    "name": "ipython",
    "version": 3
   },
   "file_extension": ".py",
   "mimetype": "text/x-python",
   "name": "python",
   "nbconvert_exporter": "python",
   "pygments_lexer": "ipython3",
   "version": "3.12.7"
  }
 },
 "nbformat": 4,
 "nbformat_minor": 0
}
